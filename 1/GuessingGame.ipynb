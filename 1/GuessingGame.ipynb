{
 "cells": [
  {
   "cell_type": "code",
   "execution_count": 3,
   "metadata": {},
   "outputs": [
    {
     "name": "stdout",
     "output_type": "stream",
     "text": [
      "Wrong answer\n",
      "Wrong answer\n",
      "Congratulations!\n",
      "Guesses: 3\n"
     ]
    }
   ],
   "source": [
    "myName = \"Jorma\"\n",
    "counter = 0\n",
    "while(True):\n",
    "    name = input(\"Please guess my name.\")\n",
    "    if name == myName:\n",
    "        counter = counter + 1\n",
    "        print(\"Congratulations!\")\n",
    "        print(\"Guesses:\", counter)\n",
    "        break\n",
    "    else:\n",
    "        print(\"Wrong answer\")\n",
    "        counter = counter + 1\n",
    "        vastaus = input(\"Do you want to quit (y/n)\")\n",
    "        if vastaus == \"y\":\n",
    "            print(\"Guesses:\", counter)\n",
    "            break\n"
   ]
  }
 ],
 "metadata": {
  "kernelspec": {
   "display_name": "Python 3",
   "language": "python",
   "name": "python3"
  },
  "language_info": {
   "codemirror_mode": {
    "name": "ipython",
    "version": 3
   },
   "file_extension": ".py",
   "mimetype": "text/x-python",
   "name": "python",
   "nbconvert_exporter": "python",
   "pygments_lexer": "ipython3",
   "version": "3.12.0"
  }
 },
 "nbformat": 4,
 "nbformat_minor": 2
}
